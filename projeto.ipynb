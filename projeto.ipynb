{
 "cells": [
  {
   "cell_type": "code",
   "execution_count": null,
   "id": "d47b1dd7",
   "metadata": {},
   "outputs": [],
   "source": [
    "# Automação de Whatsapp - Encaminhamento de mensagens\n",
    "# Encaminhar para uma lista de contatos ou de grupos\n",
    "# Encaminhar de 5 em 5 contatos/grupos\n",
    "\n",
    "# usando selenuim\n",
    "\n",
    "from selenium import webdriver\n",
    "from selenium.webdriver.chrome.service import Service\n",
    "from webdriver_manager.chrome import ChromeDriverManager\n",
    "\n",
    "service = Service(ChromeDriverManager().install())\n",
    "nav = webdriver.Chrome(service=service)\n",
    "nav.get(\"https://web.whatsapp.com\")"
   ]
  },
  {
   "cell_type": "code",
   "execution_count": 12,
   "id": "803badb8",
   "metadata": {},
   "outputs": [
    {
     "ename": "NoSuchElementException",
     "evalue": "Message: no such element: Unable to locate element: {\"method\":\"xpath\",\"selector\":\"//*[@id=\"side\"]/div[1]/div/div/button/div[2]/span\"}\n  (Session info: chrome=136.0.7103.49); For documentation on this error, please visit: https://www.selenium.dev/documentation/webdriver/troubleshooting/errors#no-such-element-exception\nStacktrace:\n\tGetHandleVerifier [0x00E4FBD3+61635]\n\tGetHandleVerifier [0x00E4FC14+61700]\n\t(No symbol) [0x00C705D3]\n\t(No symbol) [0x00CB899E]\n\t(No symbol) [0x00CB8D3B]\n\t(No symbol) [0x00D00E12]\n\t(No symbol) [0x00CDD2E4]\n\t(No symbol) [0x00CFE61B]\n\t(No symbol) [0x00CDD096]\n\t(No symbol) [0x00CAC840]\n\t(No symbol) [0x00CAD6A4]\n\tGetHandleVerifier [0x01097043+2450739]\n\tGetHandleVerifier [0x010927C6+2432182]\n\tGetHandleVerifier [0x010AD50E+2542078]\n\tGetHandleVerifier [0x00E66895+155013]\n\tGetHandleVerifier [0x00E6CF7D+181357]\n\tGetHandleVerifier [0x00E57428+92440]\n\tGetHandleVerifier [0x00E575D0+92864]\n\tGetHandleVerifier [0x00E41FC0+5296]\n\tBaseThreadInitThunk [0x758E5D49+25]\n\tRtlInitializeExceptionChain [0x77D2CFFB+107]\n\tRtlGetAppContainerNamedObjectPath [0x77D2CF81+561]\n",
     "output_type": "error",
     "traceback": [
      "\u001b[31m---------------------------------------------------------------------------\u001b[39m",
      "\u001b[31mNoSuchElementException\u001b[39m                    Traceback (most recent call last)",
      "\u001b[36mCell\u001b[39m\u001b[36m \u001b[39m\u001b[32mIn[12]\u001b[39m\u001b[32m, line 29\u001b[39m\n\u001b[32m     24\u001b[39m lista_contatos = [\u001b[33m\"\u001b[39m\u001b[33mMeu Nuemro\u001b[39m\u001b[33m\"\u001b[39m, \u001b[33m\"\u001b[39m\u001b[33mAmor\u001b[39m\u001b[33m\"\u001b[39m, \u001b[33m\"\u001b[39m\u001b[33mThomas Desenvolvedor\u001b[39m\u001b[33m\"\u001b[39m, ]\n\u001b[32m     26\u001b[39m \u001b[38;5;66;03m# enviar a mensagem para o Meu Numero para poder depois encaminhar\u001b[39;00m\n\u001b[32m     27\u001b[39m \n\u001b[32m     28\u001b[39m \u001b[38;5;66;03m# clicar na lupa\u001b[39;00m\n\u001b[32m---> \u001b[39m\u001b[32m29\u001b[39m \u001b[43mnav\u001b[49m\u001b[43m.\u001b[49m\u001b[43mfind_element\u001b[49m\u001b[43m(\u001b[49m\u001b[33;43m'\u001b[39;49m\u001b[33;43mxpath\u001b[39;49m\u001b[33;43m'\u001b[39;49m\u001b[43m,\u001b[49m\u001b[43m \u001b[49m\u001b[33;43m'\u001b[39;49m\u001b[33;43m//*[@id=\u001b[39;49m\u001b[33;43m\"\u001b[39;49m\u001b[33;43mside\u001b[39;49m\u001b[33;43m\"\u001b[39;49m\u001b[33;43m]/div[1]/div/div/button/div[2]/span\u001b[39;49m\u001b[33;43m'\u001b[39;49m\u001b[43m)\u001b[49m.click()\n\u001b[32m     30\u001b[39m nav.find_element(\u001b[33m'\u001b[39m\u001b[33mxpath\u001b[39m\u001b[33m'\u001b[39m, \u001b[33m'\u001b[39m\u001b[33m//*[@id=\u001b[39m\u001b[33m\"\u001b[39m\u001b[33mside\u001b[39m\u001b[33m\"\u001b[39m\u001b[33m]/div[1]/div/div/div[2]/div/div[1]/p\u001b[39m\u001b[33m'\u001b[39m).send_keys(\u001b[33m\"\u001b[39m\u001b[33mMeu Numero\u001b[39m\u001b[33m\"\u001b[39m)\n\u001b[32m     31\u001b[39m nav.find_element(\u001b[33m'\u001b[39m\u001b[33mxpath\u001b[39m\u001b[33m'\u001b[39m, \u001b[33m'\u001b[39m\u001b[33m//*[@id=\u001b[39m\u001b[33m\"\u001b[39m\u001b[33mside\u001b[39m\u001b[33m\"\u001b[39m\u001b[33m]/div[1]/div/div/div[2]/div/div[1]/p\u001b[39m\u001b[33m'\u001b[39m).send_keys(Keys.ENTER)\n",
      "\u001b[36mFile \u001b[39m\u001b[32mc:\\Users\\devel\\AppData\\Local\\Programs\\Python\\Python313\\Lib\\site-packages\\selenium\\webdriver\\remote\\webdriver.py:917\u001b[39m, in \u001b[36mWebDriver.find_element\u001b[39m\u001b[34m(self, by, value)\u001b[39m\n\u001b[32m    914\u001b[39m         \u001b[38;5;28;01mraise\u001b[39;00m NoSuchElementException(\u001b[33mf\u001b[39m\u001b[33m\"\u001b[39m\u001b[33mCannot locate relative element with: \u001b[39m\u001b[38;5;132;01m{\u001b[39;00mby.root\u001b[38;5;132;01m}\u001b[39;00m\u001b[33m\"\u001b[39m)\n\u001b[32m    915\u001b[39m     \u001b[38;5;28;01mreturn\u001b[39;00m elements[\u001b[32m0\u001b[39m]\n\u001b[32m--> \u001b[39m\u001b[32m917\u001b[39m \u001b[38;5;28;01mreturn\u001b[39;00m \u001b[38;5;28;43mself\u001b[39;49m\u001b[43m.\u001b[49m\u001b[43mexecute\u001b[49m\u001b[43m(\u001b[49m\u001b[43mCommand\u001b[49m\u001b[43m.\u001b[49m\u001b[43mFIND_ELEMENT\u001b[49m\u001b[43m,\u001b[49m\u001b[43m \u001b[49m\u001b[43m{\u001b[49m\u001b[33;43m\"\u001b[39;49m\u001b[33;43musing\u001b[39;49m\u001b[33;43m\"\u001b[39;49m\u001b[43m:\u001b[49m\u001b[43m \u001b[49m\u001b[43mby\u001b[49m\u001b[43m,\u001b[49m\u001b[43m \u001b[49m\u001b[33;43m\"\u001b[39;49m\u001b[33;43mvalue\u001b[39;49m\u001b[33;43m\"\u001b[39;49m\u001b[43m:\u001b[49m\u001b[43m \u001b[49m\u001b[43mvalue\u001b[49m\u001b[43m}\u001b[49m\u001b[43m)\u001b[49m[\u001b[33m\"\u001b[39m\u001b[33mvalue\u001b[39m\u001b[33m\"\u001b[39m]\n",
      "\u001b[36mFile \u001b[39m\u001b[32mc:\\Users\\devel\\AppData\\Local\\Programs\\Python\\Python313\\Lib\\site-packages\\selenium\\webdriver\\remote\\webdriver.py:448\u001b[39m, in \u001b[36mWebDriver.execute\u001b[39m\u001b[34m(self, driver_command, params)\u001b[39m\n\u001b[32m    446\u001b[39m response = \u001b[38;5;28mself\u001b[39m.command_executor.execute(driver_command, params)\n\u001b[32m    447\u001b[39m \u001b[38;5;28;01mif\u001b[39;00m response:\n\u001b[32m--> \u001b[39m\u001b[32m448\u001b[39m     \u001b[38;5;28;43mself\u001b[39;49m\u001b[43m.\u001b[49m\u001b[43merror_handler\u001b[49m\u001b[43m.\u001b[49m\u001b[43mcheck_response\u001b[49m\u001b[43m(\u001b[49m\u001b[43mresponse\u001b[49m\u001b[43m)\u001b[49m\n\u001b[32m    449\u001b[39m     response[\u001b[33m\"\u001b[39m\u001b[33mvalue\u001b[39m\u001b[33m\"\u001b[39m] = \u001b[38;5;28mself\u001b[39m._unwrap_value(response.get(\u001b[33m\"\u001b[39m\u001b[33mvalue\u001b[39m\u001b[33m\"\u001b[39m, \u001b[38;5;28;01mNone\u001b[39;00m))\n\u001b[32m    450\u001b[39m     \u001b[38;5;28;01mreturn\u001b[39;00m response\n",
      "\u001b[36mFile \u001b[39m\u001b[32mc:\\Users\\devel\\AppData\\Local\\Programs\\Python\\Python313\\Lib\\site-packages\\selenium\\webdriver\\remote\\errorhandler.py:232\u001b[39m, in \u001b[36mErrorHandler.check_response\u001b[39m\u001b[34m(self, response)\u001b[39m\n\u001b[32m    230\u001b[39m         alert_text = value[\u001b[33m\"\u001b[39m\u001b[33malert\u001b[39m\u001b[33m\"\u001b[39m].get(\u001b[33m\"\u001b[39m\u001b[33mtext\u001b[39m\u001b[33m\"\u001b[39m)\n\u001b[32m    231\u001b[39m     \u001b[38;5;28;01mraise\u001b[39;00m exception_class(message, screen, stacktrace, alert_text)  \u001b[38;5;66;03m# type: ignore[call-arg]  # mypy is not smart enough here\u001b[39;00m\n\u001b[32m--> \u001b[39m\u001b[32m232\u001b[39m \u001b[38;5;28;01mraise\u001b[39;00m exception_class(message, screen, stacktrace)\n",
      "\u001b[31mNoSuchElementException\u001b[39m: Message: no such element: Unable to locate element: {\"method\":\"xpath\",\"selector\":\"//*[@id=\"side\"]/div[1]/div/div/button/div[2]/span\"}\n  (Session info: chrome=136.0.7103.49); For documentation on this error, please visit: https://www.selenium.dev/documentation/webdriver/troubleshooting/errors#no-such-element-exception\nStacktrace:\n\tGetHandleVerifier [0x00E4FBD3+61635]\n\tGetHandleVerifier [0x00E4FC14+61700]\n\t(No symbol) [0x00C705D3]\n\t(No symbol) [0x00CB899E]\n\t(No symbol) [0x00CB8D3B]\n\t(No symbol) [0x00D00E12]\n\t(No symbol) [0x00CDD2E4]\n\t(No symbol) [0x00CFE61B]\n\t(No symbol) [0x00CDD096]\n\t(No symbol) [0x00CAC840]\n\t(No symbol) [0x00CAD6A4]\n\tGetHandleVerifier [0x01097043+2450739]\n\tGetHandleVerifier [0x010927C6+2432182]\n\tGetHandleVerifier [0x010AD50E+2542078]\n\tGetHandleVerifier [0x00E66895+155013]\n\tGetHandleVerifier [0x00E6CF7D+181357]\n\tGetHandleVerifier [0x00E57428+92440]\n\tGetHandleVerifier [0x00E575D0+92864]\n\tGetHandleVerifier [0x00E41FC0+5296]\n\tBaseThreadInitThunk [0x758E5D49+25]\n\tRtlInitializeExceptionChain [0x77D2CFFB+107]\n\tRtlGetAppContainerNamedObjectPath [0x77D2CF81+561]\n"
     ]
    }
   ],
   "source": [
    "from selenium.webdriver.common.keys import Keys\n",
    "import pyperclip\n",
    "import time\n",
    "\n",
    "mensagem = \"\"\"Fala galera!\n",
    "Se inscreve no canal da Hahstag Programação, os caras são feras!\n",
    "\"\"\"\n",
    "\n",
    "lista_contatos = [\"Meu Numero\", \"Lira Hashtag - Comercial\", \"Eu, eu mesmo\", \"Nós e eu\", \"Grupo bom\", \"ultimo grupo\"]\n",
    "\n",
    "# enviar a mensagem para o Meu Numero para poder depois encaminhar\n",
    "\n",
    "# clicar na lupa\n",
    "nav.find_element('xpath', '//*[@id=\"side\"]/div[1]/div/div/button/div[2]/span').click()\n",
    "nav.find_element('xpath', '//*[@id=\"side\"]/div[1]/div/div/div[2]/div/div[1]/p').send_keys(\"Meu Numero\")\n",
    "nav.find_element('xpath', '//*[@id=\"side\"]/div[1]/div/div/div[2]/div/div[1]/p').send_keys(Keys.ENTER)\n",
    "time.sleep(1)\n",
    "\n",
    "# escrever a mensagem para nós mesmos\n",
    "pyperclip.copy(mensagem)\n",
    "nav.find_element('xpath', '//*[@id=\"main\"]/footer/div[1]/div/span[2]/div/div[2]/div[1]/div/div[1]/p').send_keys(Keys.CONTROL + \"v\")\n",
    "nav.find_element('xpath', '//*[@id=\"main\"]/footer/div[1]/div/span[2]/div/div[2]/div[1]/div/div[1]/p').send_keys(Keys.ENTER)\n",
    "time.sleep(2)\n",
    "\n"
   ]
  },
  {
   "cell_type": "code",
   "execution_count": null,
   "id": "70745f0f",
   "metadata": {},
   "outputs": [],
   "source": [
    "# encaminhar a mensagem para a lista de contatos\n",
    "from selenium.webdriver.common.action_chains import ActionChains"
   ]
  },
  {
   "cell_type": "code",
   "execution_count": null,
   "id": "28c90f0a",
   "metadata": {},
   "outputs": [],
   "source": [
    "qtde_contatos = len(lista_contatos)\n",
    "\n",
    "if qtde_contatos % 5 == 0:\n",
    "    qtde_blocos = qtde_contatos / 5\n",
    "else:\n",
    "    qtde_blocos = int(qtde_contatos / 5) + 1\n",
    "\n",
    "for i in range(qtde_blocos):\n",
    "    # rodar o codigo de encaminhar\n",
    "    i_inicial = i * 5\n",
    "    i_final = (i + 1) * 5\n",
    "    lista_enviar = lista_contatos[i_inicial:i_final]\n",
    "\n",
    "    # selecionar a mensagem para enviar e abre a caixa de encaminhar\n",
    "    lista_elementos = nav.find_elements('class name', '_2AOIt') \n",
    "    for item in lista_elementos:\n",
    "        mensagem = mensagem.replace(\"\\n\", \"\")\n",
    "        texto = item.text.replace(\"\\n\", \"\")\n",
    "        if mensagem in texto:\n",
    "            elemento = item\n",
    "        \n",
    "    ActionChains(nav).move_to_element(elemento).perform()\n",
    "    elemento.find_element('class name', '_3u9t-').click()\n",
    "    time.sleep(0.5)\n",
    "    nav.find_element('xpath', '//*[@id=\"app\"]/div/span[4]/div/ul/div/li[4]/div').click()\n",
    "    nav.find_element('xpath', '//*[@id=\"main\"]/span[2]/div/button[4]/span').click()\n",
    "    time.sleep(1)\n",
    "\n",
    "    for nome in lista_enviar:\n",
    "        # selecionar os 5 conttos para enviar\n",
    "        # escrever o nome do contato\n",
    "        nav.find_element('xpath', '//*[@id=\"app\"]/div/span[2]/div/div/div/div/div/div/div/div[1]/div/div/div[2]/div/div[1]/p').send_keys(nome)\n",
    "        time.sleep(1)\n",
    "        # dar enter\n",
    "        nav.find_element('xpath', '//*[@id=\"app\"]/div/span[2]/div/div/div/div/div/div/div/div[1]/div/div/div[2]/div/div[1]/p').send_keys(Keys.ENTER)\n",
    "        time.sleep(1)\n",
    "        # apagar o nome do contato\n",
    "        nav.find_element('xpath', '//*[@id=\"app\"]/div/span[2]/div/div/div/div/div/div/div/div[1]/div/div/div[2]/div/div[1]/p').send_keys(Keys.BACKSPACE)\n",
    "        time.sleep(1)\n",
    "\n",
    "    nav.find_element('xpath', '//*[@id=\"app\"]/div/span[2]/div/div/div/div/div/div/div/span/div/div/div/span').click()\n",
    "    time.sleep(3)"
   ]
  }
 ],
 "metadata": {
  "kernelspec": {
   "display_name": "Python 3",
   "language": "python",
   "name": "python3"
  },
  "language_info": {
   "codemirror_mode": {
    "name": "ipython",
    "version": 3
   },
   "file_extension": ".py",
   "mimetype": "text/x-python",
   "name": "python",
   "nbconvert_exporter": "python",
   "pygments_lexer": "ipython3",
   "version": "3.13.3"
  }
 },
 "nbformat": 4,
 "nbformat_minor": 5
}
